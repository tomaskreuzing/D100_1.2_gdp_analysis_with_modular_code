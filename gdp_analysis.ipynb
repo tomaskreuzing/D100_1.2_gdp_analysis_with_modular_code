{
 "cells": [
  {
   "cell_type": "code",
   "execution_count": 45,
   "metadata": {},
   "outputs": [],
   "source": [
    "from fed import data, plot_utils"
   ]
  },
  {
   "cell_type": "code",
   "execution_count": 46,
   "metadata": {},
   "outputs": [],
   "source": [
    "file_name = \"gdp.csv\"\n",
    "countries = [\"GBR\", \"USA\", \"BRA\", \"JPN\", \"DEU\", \"CHE\"] # UK, USA, Brasil, Japan, China, Germany\n",
    "start = 2000\n",
    "end = 2023"
   ]
  },
  {
   "cell_type": "code",
   "execution_count": 47,
   "metadata": {},
   "outputs": [],
   "source": [
    "df = data.read_data(file_name)"
   ]
  },
  {
   "cell_type": "code",
   "execution_count": 48,
   "metadata": {},
   "outputs": [
    {
     "data": {
      "text/plain": [
       "polars.dataframe.frame.DataFrame"
      ]
     },
     "execution_count": 48,
     "metadata": {},
     "output_type": "execute_result"
    }
   ],
   "source": [
    "df.__class__"
   ]
  },
  {
   "cell_type": "code",
   "execution_count": 49,
   "metadata": {},
   "outputs": [
    {
     "data": {
      "text/html": [
       "<div><style>\n",
       ".dataframe > thead > tr,\n",
       ".dataframe > tbody > tr {\n",
       "  text-align: right;\n",
       "  white-space: pre-wrap;\n",
       "}\n",
       "</style>\n",
       "<small>shape: (5, 69)</small><table border=\"1\" class=\"dataframe\"><thead><tr><th>Country Name</th><th>Country Code</th><th>Indicator Name</th><th>Indicator Code</th><th>1960</th><th>1961</th><th>1962</th><th>1963</th><th>1964</th><th>1965</th><th>1966</th><th>1967</th><th>1968</th><th>1969</th><th>1970</th><th>1971</th><th>1972</th><th>1973</th><th>1974</th><th>1975</th><th>1976</th><th>1977</th><th>1978</th><th>1979</th><th>1980</th><th>1981</th><th>1982</th><th>1983</th><th>1984</th><th>1985</th><th>1986</th><th>1987</th><th>1988</th><th>1989</th><th>1990</th><th>1991</th><th>1992</th><th>1993</th><th>1994</th><th>1995</th><th>1996</th><th>1997</th><th>1998</th><th>1999</th><th>2000</th><th>2001</th><th>2002</th><th>2003</th><th>2004</th><th>2005</th><th>2006</th><th>2007</th><th>2008</th><th>2009</th><th>2010</th><th>2011</th><th>2012</th><th>2013</th><th>2014</th><th>2015</th><th>2016</th><th>2017</th><th>2018</th><th>2019</th><th>2020</th><th>2021</th><th>2022</th><th>2023</th><th></th></tr><tr><td>str</td><td>str</td><td>str</td><td>str</td><td>f64</td><td>f64</td><td>f64</td><td>f64</td><td>f64</td><td>f64</td><td>f64</td><td>f64</td><td>f64</td><td>f64</td><td>f64</td><td>f64</td><td>f64</td><td>f64</td><td>f64</td><td>f64</td><td>f64</td><td>f64</td><td>f64</td><td>f64</td><td>f64</td><td>f64</td><td>f64</td><td>f64</td><td>f64</td><td>f64</td><td>f64</td><td>f64</td><td>f64</td><td>f64</td><td>f64</td><td>f64</td><td>f64</td><td>f64</td><td>f64</td><td>f64</td><td>f64</td><td>f64</td><td>f64</td><td>f64</td><td>f64</td><td>f64</td><td>f64</td><td>f64</td><td>f64</td><td>f64</td><td>f64</td><td>f64</td><td>f64</td><td>f64</td><td>f64</td><td>f64</td><td>f64</td><td>f64</td><td>f64</td><td>f64</td><td>f64</td><td>f64</td><td>f64</td><td>f64</td><td>f64</td><td>f64</td><td>f64</td><td>f64</td><td>str</td></tr></thead><tbody><tr><td>&quot;Aruba&quot;</td><td>&quot;ABW&quot;</td><td>&quot;GDP (current US$)&quot;</td><td>&quot;NY.GDP.MKTP.CD&quot;</td><td>null</td><td>null</td><td>null</td><td>null</td><td>null</td><td>null</td><td>null</td><td>null</td><td>null</td><td>null</td><td>null</td><td>null</td><td>null</td><td>null</td><td>null</td><td>null</td><td>null</td><td>null</td><td>null</td><td>null</td><td>null</td><td>null</td><td>null</td><td>null</td><td>null</td><td>null</td><td>4.0559e8</td><td>4.8771e8</td><td>5.9665e8</td><td>6.9553e8</td><td>7.6480e8</td><td>8.7207e8</td><td>9.5866e8</td><td>1.0832e9</td><td>1.2458e9</td><td>1.3207e9</td><td>1.3799e9</td><td>1.5318e9</td><td>1.6654e9</td><td>1.7229e9</td><td>1.8735e9</td><td>1.8965e9</td><td>1.9618e9</td><td>2.0441e9</td><td>2.2548e9</td><td>2.3600e9</td><td>2.4698e9</td><td>2.6776e9</td><td>2.8430e9</td><td>2.5538e9</td><td>2.4536e9</td><td>2.6379e9</td><td>2.6152e9</td><td>2.7278e9</td><td>2.7908e9</td><td>2.9629e9</td><td>2.9836e9</td><td>3.0924e9</td><td>3.2762e9</td><td>3.3958e9</td><td>2.5589e9</td><td>3.1032e9</td><td>3.5447e9</td><td>null</td><td>null</td></tr><tr><td>&quot;Africa Eastern and Southern&quot;</td><td>&quot;AFE&quot;</td><td>&quot;GDP (current US$)&quot;</td><td>&quot;NY.GDP.MKTP.CD&quot;</td><td>2.1217e10</td><td>2.2307e10</td><td>2.3702e10</td><td>2.5779e10</td><td>2.8050e10</td><td>3.0375e10</td><td>3.3049e10</td><td>3.5934e10</td><td>3.8750e10</td><td>4.2964e10</td><td>4.3702e10</td><td>4.7633e10</td><td>5.1628e10</td><td>6.6611e10</td><td>8.1658e10</td><td>8.6884e10</td><td>8.8291e10</td><td>9.8868e10</td><td>1.1080e11</td><td>1.2978e11</td><td>1.6817e11</td><td>1.7775e11</td><td>1.6930e11</td><td>1.7990e11</td><td>1.6621e11</td><td>1.4325e11</td><td>1.5479e11</td><td>1.8581e11</td><td>2.0209e11</td><td>2.1447e11</td><td>2.5121e11</td><td>2.7354e11</td><td>2.3943e11</td><td>2.4027e11</td><td>2.4356e11</td><td>2.7343e11</td><td>2.7252e11</td><td>2.8841e11</td><td>2.6883e11</td><td>2.6543e11</td><td>2.8720e11</td><td>2.6099e11</td><td>2.6782e11</td><td>3.5572e11</td><td>4.4270e11</td><td>5.1666e11</td><td>5.8024e11</td><td>6.6560e11</td><td>7.1350e11</td><td>7.1549e11</td><td>8.4941e11</td><td>9.4544e11</td><td>9.5268e11</td><td>9.6335e11</td><td>9.7969e11</td><td>8.9930e11</td><td>8.2983e11</td><td>9.4011e11</td><td>1.0127e12</td><td>1.0065e12</td><td>9.2907e11</td><td>1.0868e12</td><td>1.1840e12</td><td>1.2362e12</td><td>null</td></tr><tr><td>&quot;Afghanistan&quot;</td><td>&quot;AFG&quot;</td><td>&quot;GDP (current US$)&quot;</td><td>&quot;NY.GDP.MKTP.CD&quot;</td><td>null</td><td>null</td><td>null</td><td>null</td><td>null</td><td>null</td><td>null</td><td>null</td><td>null</td><td>null</td><td>null</td><td>null</td><td>null</td><td>null</td><td>null</td><td>null</td><td>null</td><td>null</td><td>null</td><td>null</td><td>null</td><td>null</td><td>null</td><td>null</td><td>null</td><td>null</td><td>null</td><td>null</td><td>null</td><td>null</td><td>null</td><td>null</td><td>null</td><td>null</td><td>null</td><td>null</td><td>null</td><td>null</td><td>null</td><td>null</td><td>3.5214e9</td><td>2.8136e9</td><td>3.8257e9</td><td>4.5209e9</td><td>5.2249e9</td><td>6.2033e9</td><td>6.9718e9</td><td>9.7479e9</td><td>1.0109e10</td><td>1.2416e10</td><td>1.5857e10</td><td>1.7805e10</td><td>1.9907e10</td><td>2.0146e10</td><td>2.0497e10</td><td>1.9134e10</td><td>1.8117e10</td><td>1.8753e10</td><td>1.8053e10</td><td>1.8799e10</td><td>1.9956e10</td><td>1.4266e10</td><td>1.4502e10</td><td>null</td><td>null</td></tr><tr><td>&quot;Africa Western and Central&quot;</td><td>&quot;AFW&quot;</td><td>&quot;GDP (current US$)&quot;</td><td>&quot;NY.GDP.MKTP.CD&quot;</td><td>1.1884e10</td><td>1.2686e10</td><td>1.3607e10</td><td>1.4440e10</td><td>1.5769e10</td><td>1.6934e10</td><td>1.8048e10</td><td>1.6496e10</td><td>1.7023e10</td><td>1.9301e10</td><td>2.6697e10</td><td>2.4507e10</td><td>2.9494e10</td><td>3.6903e10</td><td>4.9688e10</td><td>5.7281e10</td><td>6.8386e10</td><td>7.1791e10</td><td>7.8779e10</td><td>9.6682e10</td><td>1.2050e11</td><td>2.1691e11</td><td>1.9592e11</td><td>1.5122e11</td><td>1.3122e11</td><td>1.3780e11</td><td>1.0924e11</td><td>1.1229e11</td><td>1.1123e11</td><td>1.0393e11</td><td>1.2371e11</td><td>1.2994e11</td><td>1.2460e11</td><td>1.2973e11</td><td>1.3478e11</td><td>2.0718e11</td><td>2.6260e11</td><td>2.7574e11</td><td>2.9615e11</td><td>1.3947e11</td><td>1.4214e11</td><td>1.4945e11</td><td>1.7869e11</td><td>2.0698e11</td><td>2.5610e11</td><td>3.1241e11</td><td>3.9709e11</td><td>4.6568e11</td><td>5.6794e11</td><td>5.0855e11</td><td>5.9870e11</td><td>6.8223e11</td><td>7.3780e11</td><td>8.3416e11</td><td>8.9459e11</td><td>7.6937e11</td><td>6.9218e11</td><td>6.8575e11</td><td>7.6819e11</td><td>8.2393e11</td><td>7.8715e11</td><td>8.4599e11</td><td>8.7714e11</td><td>7.9659e11</td><td>null</td></tr><tr><td>&quot;Angola&quot;</td><td>&quot;AGO&quot;</td><td>&quot;GDP (current US$)&quot;</td><td>&quot;NY.GDP.MKTP.CD&quot;</td><td>null</td><td>null</td><td>null</td><td>null</td><td>null</td><td>null</td><td>null</td><td>null</td><td>null</td><td>null</td><td>null</td><td>null</td><td>null</td><td>null</td><td>null</td><td>null</td><td>null</td><td>null</td><td>null</td><td>null</td><td>null</td><td>null</td><td>null</td><td>null</td><td>null</td><td>null</td><td>null</td><td>null</td><td>null</td><td>null</td><td>null</td><td>null</td><td>null</td><td>5.8800e9</td><td>4.4320e9</td><td>5.5387e9</td><td>6.5355e9</td><td>7.6754e9</td><td>6.5064e9</td><td>6.1529e9</td><td>9.1296e9</td><td>8.9361e9</td><td>1.5286e10</td><td>1.7813e10</td><td>2.3552e10</td><td>3.6971e10</td><td>5.2381e10</td><td>6.5266e10</td><td>8.8539e10</td><td>7.0307e10</td><td>8.3799e10</td><td>1.1179e11</td><td>1.2805e11</td><td>1.3234e11</td><td>1.3597e11</td><td>9.0496e10</td><td>5.2762e10</td><td>7.3690e10</td><td>7.9451e10</td><td>7.0898e10</td><td>4.8502e10</td><td>6.6505e10</td><td>1.0440e11</td><td>8.4723e10</td><td>null</td></tr></tbody></table></div>"
      ],
      "text/plain": [
       "shape: (5, 69)\n",
       "┌─────────────┬─────────┬─────────────┬─────────────┬───┬───────────┬───────────┬───────────┬──────┐\n",
       "│ Country     ┆ Country ┆ Indicator   ┆ Indicator   ┆ … ┆ 2021      ┆ 2022      ┆ 2023      ┆      │\n",
       "│ Name        ┆ Code    ┆ Name        ┆ Code        ┆   ┆ ---       ┆ ---       ┆ ---       ┆ ---  │\n",
       "│ ---         ┆ ---     ┆ ---         ┆ ---         ┆   ┆ f64       ┆ f64       ┆ f64       ┆ str  │\n",
       "│ str         ┆ str     ┆ str         ┆ str         ┆   ┆           ┆           ┆           ┆      │\n",
       "╞═════════════╪═════════╪═════════════╪═════════════╪═══╪═══════════╪═══════════╪═══════════╪══════╡\n",
       "│ Aruba       ┆ ABW     ┆ GDP         ┆ NY.GDP.MKTP ┆ … ┆ 3.1032e9  ┆ 3.5447e9  ┆ null      ┆ null │\n",
       "│             ┆         ┆ (current    ┆ .CD         ┆   ┆           ┆           ┆           ┆      │\n",
       "│             ┆         ┆ US$)        ┆             ┆   ┆           ┆           ┆           ┆      │\n",
       "│ Africa      ┆ AFE     ┆ GDP         ┆ NY.GDP.MKTP ┆ … ┆ 1.0868e12 ┆ 1.1840e12 ┆ 1.2362e12 ┆ null │\n",
       "│ Eastern and ┆         ┆ (current    ┆ .CD         ┆   ┆           ┆           ┆           ┆      │\n",
       "│ Southern    ┆         ┆ US$)        ┆             ┆   ┆           ┆           ┆           ┆      │\n",
       "│ Afghanistan ┆ AFG     ┆ GDP         ┆ NY.GDP.MKTP ┆ … ┆ 1.4266e10 ┆ 1.4502e10 ┆ null      ┆ null │\n",
       "│             ┆         ┆ (current    ┆ .CD         ┆   ┆           ┆           ┆           ┆      │\n",
       "│             ┆         ┆ US$)        ┆             ┆   ┆           ┆           ┆           ┆      │\n",
       "│ Africa      ┆ AFW     ┆ GDP         ┆ NY.GDP.MKTP ┆ … ┆ 8.4599e11 ┆ 8.7714e11 ┆ 7.9659e11 ┆ null │\n",
       "│ Western and ┆         ┆ (current    ┆ .CD         ┆   ┆           ┆           ┆           ┆      │\n",
       "│ Central     ┆         ┆ US$)        ┆             ┆   ┆           ┆           ┆           ┆      │\n",
       "│ Angola      ┆ AGO     ┆ GDP         ┆ NY.GDP.MKTP ┆ … ┆ 6.6505e10 ┆ 1.0440e11 ┆ 8.4723e10 ┆ null │\n",
       "│             ┆         ┆ (current    ┆ .CD         ┆   ┆           ┆           ┆           ┆      │\n",
       "│             ┆         ┆ US$)        ┆             ┆   ┆           ┆           ┆           ┆      │\n",
       "└─────────────┴─────────┴─────────────┴─────────────┴───┴───────────┴───────────┴───────────┴──────┘"
      ]
     },
     "execution_count": 49,
     "metadata": {},
     "output_type": "execute_result"
    }
   ],
   "source": [
    "df.head()"
   ]
  },
  {
   "cell_type": "code",
   "execution_count": 50,
   "metadata": {},
   "outputs": [
    {
     "data": {
      "text/html": [
       "<div><style>\n",
       ".dataframe > thead > tr,\n",
       ".dataframe > tbody > tr {\n",
       "  text-align: right;\n",
       "  white-space: pre-wrap;\n",
       "}\n",
       "</style>\n",
       "<small>shape: (138, 3)</small><table border=\"1\" class=\"dataframe\"><thead><tr><th>Country Name</th><th>Year</th><th>GDP</th></tr><tr><td>str</td><td>i32</td><td>f64</td></tr></thead><tbody><tr><td>&quot;Brazil&quot;</td><td>2000</td><td>6.5545e11</td></tr><tr><td>&quot;Brazil&quot;</td><td>2001</td><td>5.5998e11</td></tr><tr><td>&quot;Brazil&quot;</td><td>2002</td><td>5.0980e11</td></tr><tr><td>&quot;Brazil&quot;</td><td>2003</td><td>5.5823e11</td></tr><tr><td>&quot;Brazil&quot;</td><td>2004</td><td>6.6929e11</td></tr><tr><td>&hellip;</td><td>&hellip;</td><td>&hellip;</td></tr><tr><td>&quot;United States&quot;</td><td>2018</td><td>2.0657e13</td></tr><tr><td>&quot;United States&quot;</td><td>2019</td><td>2.1521e13</td></tr><tr><td>&quot;United States&quot;</td><td>2020</td><td>2.1323e13</td></tr><tr><td>&quot;United States&quot;</td><td>2021</td><td>2.3594e13</td></tr><tr><td>&quot;United States&quot;</td><td>2022</td><td>2.5744e13</td></tr></tbody></table></div>"
      ],
      "text/plain": [
       "shape: (138, 3)\n",
       "┌───────────────┬──────┬───────────┐\n",
       "│ Country Name  ┆ Year ┆ GDP       │\n",
       "│ ---           ┆ ---  ┆ ---       │\n",
       "│ str           ┆ i32  ┆ f64       │\n",
       "╞═══════════════╪══════╪═══════════╡\n",
       "│ Brazil        ┆ 2000 ┆ 6.5545e11 │\n",
       "│ Brazil        ┆ 2001 ┆ 5.5998e11 │\n",
       "│ Brazil        ┆ 2002 ┆ 5.0980e11 │\n",
       "│ Brazil        ┆ 2003 ┆ 5.5823e11 │\n",
       "│ Brazil        ┆ 2004 ┆ 6.6929e11 │\n",
       "│ …             ┆ …    ┆ …         │\n",
       "│ United States ┆ 2018 ┆ 2.0657e13 │\n",
       "│ United States ┆ 2019 ┆ 2.1521e13 │\n",
       "│ United States ┆ 2020 ┆ 2.1323e13 │\n",
       "│ United States ┆ 2021 ┆ 2.3594e13 │\n",
       "│ United States ┆ 2022 ┆ 2.5744e13 │\n",
       "└───────────────┴──────┴───────────┘"
      ]
     },
     "execution_count": 50,
     "metadata": {},
     "output_type": "execute_result"
    }
   ],
   "source": [
    "filtered_df = data.clean_data(df, countries, start, end)\n",
    "filtered_df"
   ]
  },
  {
   "cell_type": "code",
   "execution_count": 54,
   "metadata": {},
   "outputs": [
    {
     "ename": "RuntimeError",
     "evalue": "Encountered an exception when converting data source to a pandas DataFrame. See traceback above for details.",
     "output_type": "error",
     "traceback": [
      "\u001b[1;31m---------------------------------------------------------------------------\u001b[0m",
      "\u001b[1;31mAssertionError\u001b[0m                            Traceback (most recent call last)",
      "File \u001b[1;32mc:\\Users\\Tomáš Kreuzinger\\.conda\\envs\\gdp\\lib\\site-packages\\seaborn\\_core\\data.py:313\u001b[0m, in \u001b[0;36mconvert_dataframe_to_pandas\u001b[1;34m(data)\u001b[0m\n\u001b[0;32m    306\u001b[0m \u001b[38;5;28;01mtry\u001b[39;00m:\n\u001b[0;32m    307\u001b[0m     \u001b[38;5;66;03m# This is going to convert all columns in the input dataframe, even though\u001b[39;00m\n\u001b[0;32m    308\u001b[0m     \u001b[38;5;66;03m# we may only need one or two of them. It would be more efficient to select\u001b[39;00m\n\u001b[1;32m   (...)\u001b[0m\n\u001b[0;32m    311\u001b[0m     \u001b[38;5;66;03m# interface where variables passed in Plot() may only be referenced later\u001b[39;00m\n\u001b[0;32m    312\u001b[0m     \u001b[38;5;66;03m# in Plot.add(). But noting here in case this seems to be a bottleneck.\u001b[39;00m\n\u001b[1;32m--> 313\u001b[0m     \u001b[38;5;28;01mreturn\u001b[39;00m \u001b[43mpd\u001b[49m\u001b[38;5;241;43m.\u001b[39;49m\u001b[43mapi\u001b[49m\u001b[38;5;241;43m.\u001b[39;49m\u001b[43minterchange\u001b[49m\u001b[38;5;241;43m.\u001b[39;49m\u001b[43mfrom_dataframe\u001b[49m\u001b[43m(\u001b[49m\u001b[43mdata\u001b[49m\u001b[43m)\u001b[49m\n\u001b[0;32m    314\u001b[0m \u001b[38;5;28;01mexcept\u001b[39;00m \u001b[38;5;167;01mException\u001b[39;00m \u001b[38;5;28;01mas\u001b[39;00m err:\n",
      "File \u001b[1;32mc:\\Users\\Tomáš Kreuzinger\\.conda\\envs\\gdp\\lib\\site-packages\\pandas\\core\\interchange\\from_dataframe.py:54\u001b[0m, in \u001b[0;36mfrom_dataframe\u001b[1;34m(df, allow_copy)\u001b[0m\n\u001b[0;32m     52\u001b[0m     \u001b[38;5;28;01mraise\u001b[39;00m \u001b[38;5;167;01mValueError\u001b[39;00m(\u001b[38;5;124m\"\u001b[39m\u001b[38;5;124m`df` does not support __dataframe__\u001b[39m\u001b[38;5;124m\"\u001b[39m)\n\u001b[1;32m---> 54\u001b[0m \u001b[38;5;28;01mreturn\u001b[39;00m \u001b[43m_from_dataframe\u001b[49m\u001b[43m(\u001b[49m\u001b[43mdf\u001b[49m\u001b[38;5;241;43m.\u001b[39;49m\u001b[43m__dataframe__\u001b[49m\u001b[43m(\u001b[49m\u001b[43mallow_copy\u001b[49m\u001b[38;5;241;43m=\u001b[39;49m\u001b[43mallow_copy\u001b[49m\u001b[43m)\u001b[49m\u001b[43m)\u001b[49m\n",
      "File \u001b[1;32mc:\\Users\\Tomáš Kreuzinger\\.conda\\envs\\gdp\\lib\\site-packages\\pandas\\core\\interchange\\from_dataframe.py:75\u001b[0m, in \u001b[0;36m_from_dataframe\u001b[1;34m(df, allow_copy)\u001b[0m\n\u001b[0;32m     74\u001b[0m \u001b[38;5;28;01mfor\u001b[39;00m chunk \u001b[38;5;129;01min\u001b[39;00m df\u001b[38;5;241m.\u001b[39mget_chunks():\n\u001b[1;32m---> 75\u001b[0m     pandas_df \u001b[38;5;241m=\u001b[39m \u001b[43mprotocol_df_chunk_to_pandas\u001b[49m\u001b[43m(\u001b[49m\u001b[43mchunk\u001b[49m\u001b[43m)\u001b[49m\n\u001b[0;32m     76\u001b[0m     pandas_dfs\u001b[38;5;241m.\u001b[39mappend(pandas_df)\n",
      "File \u001b[1;32mc:\\Users\\Tomáš Kreuzinger\\.conda\\envs\\gdp\\lib\\site-packages\\pandas\\core\\interchange\\from_dataframe.py:127\u001b[0m, in \u001b[0;36mprotocol_df_chunk_to_pandas\u001b[1;34m(df)\u001b[0m\n\u001b[0;32m    126\u001b[0m \u001b[38;5;28;01melif\u001b[39;00m dtype \u001b[38;5;241m==\u001b[39m DtypeKind\u001b[38;5;241m.\u001b[39mSTRING:\n\u001b[1;32m--> 127\u001b[0m     columns[name], buf \u001b[38;5;241m=\u001b[39m \u001b[43mstring_column_to_ndarray\u001b[49m\u001b[43m(\u001b[49m\u001b[43mcol\u001b[49m\u001b[43m)\u001b[49m\n\u001b[0;32m    128\u001b[0m \u001b[38;5;28;01melif\u001b[39;00m dtype \u001b[38;5;241m==\u001b[39m DtypeKind\u001b[38;5;241m.\u001b[39mDATETIME:\n",
      "File \u001b[1;32mc:\\Users\\Tomáš Kreuzinger\\.conda\\envs\\gdp\\lib\\site-packages\\pandas\\core\\interchange\\from_dataframe.py:251\u001b[0m, in \u001b[0;36mstring_column_to_ndarray\u001b[1;34m(col)\u001b[0m\n\u001b[0;32m    250\u001b[0m \u001b[38;5;28;01massert\u001b[39;00m protocol_data_dtype[\u001b[38;5;241m1\u001b[39m] \u001b[38;5;241m==\u001b[39m \u001b[38;5;241m8\u001b[39m\n\u001b[1;32m--> 251\u001b[0m \u001b[38;5;28;01massert\u001b[39;00m protocol_data_dtype[\u001b[38;5;241m2\u001b[39m] \u001b[38;5;129;01min\u001b[39;00m (\n\u001b[0;32m    252\u001b[0m     ArrowCTypes\u001b[38;5;241m.\u001b[39mSTRING,\n\u001b[0;32m    253\u001b[0m     ArrowCTypes\u001b[38;5;241m.\u001b[39mLARGE_STRING,\n\u001b[0;32m    254\u001b[0m )  \u001b[38;5;66;03m# format_str == utf-8\u001b[39;00m\n\u001b[0;32m    255\u001b[0m \u001b[38;5;66;03m# Convert the buffers to NumPy arrays. In order to go from STRING to\u001b[39;00m\n\u001b[0;32m    256\u001b[0m \u001b[38;5;66;03m# an equivalent ndarray, we claim that the buffer is uint8 (i.e., a byte array)\u001b[39;00m\n",
      "\u001b[1;31mAssertionError\u001b[0m: ",
      "\nThe above exception was the direct cause of the following exception:\n",
      "\u001b[1;31mRuntimeError\u001b[0m                              Traceback (most recent call last)",
      "Cell \u001b[1;32mIn[54], line 1\u001b[0m\n\u001b[1;32m----> 1\u001b[0m \u001b[43mplot_utils\u001b[49m\u001b[38;5;241;43m.\u001b[39;49m\u001b[43mplot_gdp\u001b[49m\u001b[43m(\u001b[49m\u001b[43mfiltered_df\u001b[49m\u001b[43m)\u001b[49m\n",
      "File \u001b[1;32mc:\\Users\\Tomáš Kreuzinger\\modular_repo\\fed\\plot_utils.py:4\u001b[0m, in \u001b[0;36mplot_gdp\u001b[1;34m(df)\u001b[0m\n\u001b[0;32m      3\u001b[0m \u001b[38;5;28;01mdef\u001b[39;00m \u001b[38;5;21mplot_gdp\u001b[39m(df):\n\u001b[1;32m----> 4\u001b[0m     \u001b[38;5;28;01mreturn\u001b[39;00m \u001b[43msns\u001b[49m\u001b[38;5;241;43m.\u001b[39;49m\u001b[43mlineplot\u001b[49m\u001b[43m(\u001b[49m\u001b[43mdata\u001b[49m\u001b[38;5;241;43m=\u001b[39;49m\u001b[43mdf\u001b[49m\u001b[43m,\u001b[49m\u001b[43m \u001b[49m\u001b[43mx\u001b[49m\u001b[38;5;241;43m=\u001b[39;49m\u001b[38;5;124;43m\"\u001b[39;49m\u001b[38;5;124;43mYear\u001b[39;49m\u001b[38;5;124;43m\"\u001b[39;49m\u001b[43m,\u001b[49m\u001b[43m \u001b[49m\u001b[43my\u001b[49m\u001b[38;5;241;43m=\u001b[39;49m\u001b[38;5;124;43m\"\u001b[39;49m\u001b[38;5;124;43mGDP\u001b[39;49m\u001b[38;5;124;43m\"\u001b[39;49m\u001b[43m,\u001b[49m\u001b[43m \u001b[49m\u001b[43mhue\u001b[49m\u001b[38;5;241;43m=\u001b[39;49m\u001b[38;5;124;43m\"\u001b[39;49m\u001b[38;5;124;43mCountry Name\u001b[39;49m\u001b[38;5;124;43m\"\u001b[39;49m\u001b[43m)\u001b[49m\n",
      "File \u001b[1;32mc:\\Users\\Tomáš Kreuzinger\\.conda\\envs\\gdp\\lib\\site-packages\\seaborn\\relational.py:485\u001b[0m, in \u001b[0;36mlineplot\u001b[1;34m(data, x, y, hue, size, style, units, weights, palette, hue_order, hue_norm, sizes, size_order, size_norm, dashes, markers, style_order, estimator, errorbar, n_boot, seed, orient, sort, err_style, err_kws, legend, ci, ax, **kwargs)\u001b[0m\n\u001b[0;32m    471\u001b[0m \u001b[38;5;28;01mdef\u001b[39;00m \u001b[38;5;21mlineplot\u001b[39m(\n\u001b[0;32m    472\u001b[0m     data\u001b[38;5;241m=\u001b[39m\u001b[38;5;28;01mNone\u001b[39;00m, \u001b[38;5;241m*\u001b[39m,\n\u001b[0;32m    473\u001b[0m     x\u001b[38;5;241m=\u001b[39m\u001b[38;5;28;01mNone\u001b[39;00m, y\u001b[38;5;241m=\u001b[39m\u001b[38;5;28;01mNone\u001b[39;00m, hue\u001b[38;5;241m=\u001b[39m\u001b[38;5;28;01mNone\u001b[39;00m, size\u001b[38;5;241m=\u001b[39m\u001b[38;5;28;01mNone\u001b[39;00m, style\u001b[38;5;241m=\u001b[39m\u001b[38;5;28;01mNone\u001b[39;00m, units\u001b[38;5;241m=\u001b[39m\u001b[38;5;28;01mNone\u001b[39;00m, weights\u001b[38;5;241m=\u001b[39m\u001b[38;5;28;01mNone\u001b[39;00m,\n\u001b[1;32m   (...)\u001b[0m\n\u001b[0;32m    481\u001b[0m \n\u001b[0;32m    482\u001b[0m     \u001b[38;5;66;03m# Handle deprecation of ci parameter\u001b[39;00m\n\u001b[0;32m    483\u001b[0m     errorbar \u001b[38;5;241m=\u001b[39m _deprecate_ci(errorbar, ci)\n\u001b[1;32m--> 485\u001b[0m     p \u001b[38;5;241m=\u001b[39m \u001b[43m_LinePlotter\u001b[49m\u001b[43m(\u001b[49m\n\u001b[0;32m    486\u001b[0m \u001b[43m        \u001b[49m\u001b[43mdata\u001b[49m\u001b[38;5;241;43m=\u001b[39;49m\u001b[43mdata\u001b[49m\u001b[43m,\u001b[49m\n\u001b[0;32m    487\u001b[0m \u001b[43m        \u001b[49m\u001b[43mvariables\u001b[49m\u001b[38;5;241;43m=\u001b[39;49m\u001b[38;5;28;43mdict\u001b[39;49m\u001b[43m(\u001b[49m\n\u001b[0;32m    488\u001b[0m \u001b[43m            \u001b[49m\u001b[43mx\u001b[49m\u001b[38;5;241;43m=\u001b[39;49m\u001b[43mx\u001b[49m\u001b[43m,\u001b[49m\u001b[43m \u001b[49m\u001b[43my\u001b[49m\u001b[38;5;241;43m=\u001b[39;49m\u001b[43my\u001b[49m\u001b[43m,\u001b[49m\u001b[43m \u001b[49m\u001b[43mhue\u001b[49m\u001b[38;5;241;43m=\u001b[39;49m\u001b[43mhue\u001b[49m\u001b[43m,\u001b[49m\u001b[43m \u001b[49m\u001b[43msize\u001b[49m\u001b[38;5;241;43m=\u001b[39;49m\u001b[43msize\u001b[49m\u001b[43m,\u001b[49m\u001b[43m \u001b[49m\u001b[43mstyle\u001b[49m\u001b[38;5;241;43m=\u001b[39;49m\u001b[43mstyle\u001b[49m\u001b[43m,\u001b[49m\u001b[43m \u001b[49m\u001b[43munits\u001b[49m\u001b[38;5;241;43m=\u001b[39;49m\u001b[43munits\u001b[49m\u001b[43m,\u001b[49m\u001b[43m \u001b[49m\u001b[43mweight\u001b[49m\u001b[38;5;241;43m=\u001b[39;49m\u001b[43mweights\u001b[49m\n\u001b[0;32m    489\u001b[0m \u001b[43m        \u001b[49m\u001b[43m)\u001b[49m\u001b[43m,\u001b[49m\n\u001b[0;32m    490\u001b[0m \u001b[43m        \u001b[49m\u001b[43mestimator\u001b[49m\u001b[38;5;241;43m=\u001b[39;49m\u001b[43mestimator\u001b[49m\u001b[43m,\u001b[49m\u001b[43m \u001b[49m\u001b[43mn_boot\u001b[49m\u001b[38;5;241;43m=\u001b[39;49m\u001b[43mn_boot\u001b[49m\u001b[43m,\u001b[49m\u001b[43m \u001b[49m\u001b[43mseed\u001b[49m\u001b[38;5;241;43m=\u001b[39;49m\u001b[43mseed\u001b[49m\u001b[43m,\u001b[49m\u001b[43m \u001b[49m\u001b[43merrorbar\u001b[49m\u001b[38;5;241;43m=\u001b[39;49m\u001b[43merrorbar\u001b[49m\u001b[43m,\u001b[49m\n\u001b[0;32m    491\u001b[0m \u001b[43m        \u001b[49m\u001b[43msort\u001b[49m\u001b[38;5;241;43m=\u001b[39;49m\u001b[43msort\u001b[49m\u001b[43m,\u001b[49m\u001b[43m \u001b[49m\u001b[43morient\u001b[49m\u001b[38;5;241;43m=\u001b[39;49m\u001b[43morient\u001b[49m\u001b[43m,\u001b[49m\u001b[43m \u001b[49m\u001b[43merr_style\u001b[49m\u001b[38;5;241;43m=\u001b[39;49m\u001b[43merr_style\u001b[49m\u001b[43m,\u001b[49m\u001b[43m \u001b[49m\u001b[43merr_kws\u001b[49m\u001b[38;5;241;43m=\u001b[39;49m\u001b[43merr_kws\u001b[49m\u001b[43m,\u001b[49m\n\u001b[0;32m    492\u001b[0m \u001b[43m        \u001b[49m\u001b[43mlegend\u001b[49m\u001b[38;5;241;43m=\u001b[39;49m\u001b[43mlegend\u001b[49m\u001b[43m,\u001b[49m\n\u001b[0;32m    493\u001b[0m \u001b[43m    \u001b[49m\u001b[43m)\u001b[49m\n\u001b[0;32m    495\u001b[0m     p\u001b[38;5;241m.\u001b[39mmap_hue(palette\u001b[38;5;241m=\u001b[39mpalette, order\u001b[38;5;241m=\u001b[39mhue_order, norm\u001b[38;5;241m=\u001b[39mhue_norm)\n\u001b[0;32m    496\u001b[0m     p\u001b[38;5;241m.\u001b[39mmap_size(sizes\u001b[38;5;241m=\u001b[39msizes, order\u001b[38;5;241m=\u001b[39msize_order, norm\u001b[38;5;241m=\u001b[39msize_norm)\n",
      "File \u001b[1;32mc:\\Users\\Tomáš Kreuzinger\\.conda\\envs\\gdp\\lib\\site-packages\\seaborn\\relational.py:216\u001b[0m, in \u001b[0;36m_LinePlotter.__init__\u001b[1;34m(self, data, variables, estimator, n_boot, seed, errorbar, sort, orient, err_style, err_kws, legend)\u001b[0m\n\u001b[0;32m    202\u001b[0m \u001b[38;5;28;01mdef\u001b[39;00m \u001b[38;5;21m__init__\u001b[39m(\n\u001b[0;32m    203\u001b[0m     \u001b[38;5;28mself\u001b[39m, \u001b[38;5;241m*\u001b[39m,\n\u001b[0;32m    204\u001b[0m     data\u001b[38;5;241m=\u001b[39m\u001b[38;5;28;01mNone\u001b[39;00m, variables\u001b[38;5;241m=\u001b[39m{},\n\u001b[1;32m   (...)\u001b[0m\n\u001b[0;32m    210\u001b[0m     \u001b[38;5;66;03m# the kind of plot to draw, but for the time being we need to set\u001b[39;00m\n\u001b[0;32m    211\u001b[0m     \u001b[38;5;66;03m# this information so the SizeMapping can use it\u001b[39;00m\n\u001b[0;32m    212\u001b[0m     \u001b[38;5;28mself\u001b[39m\u001b[38;5;241m.\u001b[39m_default_size_range \u001b[38;5;241m=\u001b[39m (\n\u001b[0;32m    213\u001b[0m         np\u001b[38;5;241m.\u001b[39mr_[\u001b[38;5;241m.5\u001b[39m, \u001b[38;5;241m2\u001b[39m] \u001b[38;5;241m*\u001b[39m mpl\u001b[38;5;241m.\u001b[39mrcParams[\u001b[38;5;124m\"\u001b[39m\u001b[38;5;124mlines.linewidth\u001b[39m\u001b[38;5;124m\"\u001b[39m]\n\u001b[0;32m    214\u001b[0m     )\n\u001b[1;32m--> 216\u001b[0m     \u001b[38;5;28;43msuper\u001b[39;49m\u001b[43m(\u001b[49m\u001b[43m)\u001b[49m\u001b[38;5;241;43m.\u001b[39;49m\u001b[38;5;21;43m__init__\u001b[39;49m\u001b[43m(\u001b[49m\u001b[43mdata\u001b[49m\u001b[38;5;241;43m=\u001b[39;49m\u001b[43mdata\u001b[49m\u001b[43m,\u001b[49m\u001b[43m \u001b[49m\u001b[43mvariables\u001b[49m\u001b[38;5;241;43m=\u001b[39;49m\u001b[43mvariables\u001b[49m\u001b[43m)\u001b[49m\n\u001b[0;32m    218\u001b[0m     \u001b[38;5;28mself\u001b[39m\u001b[38;5;241m.\u001b[39mestimator \u001b[38;5;241m=\u001b[39m estimator\n\u001b[0;32m    219\u001b[0m     \u001b[38;5;28mself\u001b[39m\u001b[38;5;241m.\u001b[39merrorbar \u001b[38;5;241m=\u001b[39m errorbar\n",
      "File \u001b[1;32mc:\\Users\\Tomáš Kreuzinger\\.conda\\envs\\gdp\\lib\\site-packages\\seaborn\\_base.py:634\u001b[0m, in \u001b[0;36mVectorPlotter.__init__\u001b[1;34m(self, data, variables)\u001b[0m\n\u001b[0;32m    629\u001b[0m \u001b[38;5;66;03m# var_ordered is relevant only for categorical axis variables, and may\u001b[39;00m\n\u001b[0;32m    630\u001b[0m \u001b[38;5;66;03m# be better handled by an internal axis information object that tracks\u001b[39;00m\n\u001b[0;32m    631\u001b[0m \u001b[38;5;66;03m# such information and is set up by the scale_* methods. The analogous\u001b[39;00m\n\u001b[0;32m    632\u001b[0m \u001b[38;5;66;03m# information for numeric axes would be information about log scales.\u001b[39;00m\n\u001b[0;32m    633\u001b[0m \u001b[38;5;28mself\u001b[39m\u001b[38;5;241m.\u001b[39m_var_ordered \u001b[38;5;241m=\u001b[39m {\u001b[38;5;124m\"\u001b[39m\u001b[38;5;124mx\u001b[39m\u001b[38;5;124m\"\u001b[39m: \u001b[38;5;28;01mFalse\u001b[39;00m, \u001b[38;5;124m\"\u001b[39m\u001b[38;5;124my\u001b[39m\u001b[38;5;124m\"\u001b[39m: \u001b[38;5;28;01mFalse\u001b[39;00m}  \u001b[38;5;66;03m# alt., used DefaultDict\u001b[39;00m\n\u001b[1;32m--> 634\u001b[0m \u001b[38;5;28;43mself\u001b[39;49m\u001b[38;5;241;43m.\u001b[39;49m\u001b[43massign_variables\u001b[49m\u001b[43m(\u001b[49m\u001b[43mdata\u001b[49m\u001b[43m,\u001b[49m\u001b[43m \u001b[49m\u001b[43mvariables\u001b[49m\u001b[43m)\u001b[49m\n\u001b[0;32m    636\u001b[0m \u001b[38;5;66;03m# TODO Lots of tests assume that these are called to initialize the\u001b[39;00m\n\u001b[0;32m    637\u001b[0m \u001b[38;5;66;03m# mappings to default values on class initialization. I'd prefer to\u001b[39;00m\n\u001b[0;32m    638\u001b[0m \u001b[38;5;66;03m# move away from that and only have a mapping when explicitly called.\u001b[39;00m\n\u001b[0;32m    639\u001b[0m \u001b[38;5;28;01mfor\u001b[39;00m var \u001b[38;5;129;01min\u001b[39;00m [\u001b[38;5;124m\"\u001b[39m\u001b[38;5;124mhue\u001b[39m\u001b[38;5;124m\"\u001b[39m, \u001b[38;5;124m\"\u001b[39m\u001b[38;5;124msize\u001b[39m\u001b[38;5;124m\"\u001b[39m, \u001b[38;5;124m\"\u001b[39m\u001b[38;5;124mstyle\u001b[39m\u001b[38;5;124m\"\u001b[39m]:\n",
      "File \u001b[1;32mc:\\Users\\Tomáš Kreuzinger\\.conda\\envs\\gdp\\lib\\site-packages\\seaborn\\_base.py:679\u001b[0m, in \u001b[0;36mVectorPlotter.assign_variables\u001b[1;34m(self, data, variables)\u001b[0m\n\u001b[0;32m    674\u001b[0m \u001b[38;5;28;01melse\u001b[39;00m:\n\u001b[0;32m    675\u001b[0m     \u001b[38;5;66;03m# When dealing with long-form input, use the newer PlotData\u001b[39;00m\n\u001b[0;32m    676\u001b[0m     \u001b[38;5;66;03m# object (internal but introduced for the objects interface)\u001b[39;00m\n\u001b[0;32m    677\u001b[0m     \u001b[38;5;66;03m# to centralize / standardize data consumption logic.\u001b[39;00m\n\u001b[0;32m    678\u001b[0m     \u001b[38;5;28mself\u001b[39m\u001b[38;5;241m.\u001b[39minput_format \u001b[38;5;241m=\u001b[39m \u001b[38;5;124m\"\u001b[39m\u001b[38;5;124mlong\u001b[39m\u001b[38;5;124m\"\u001b[39m\n\u001b[1;32m--> 679\u001b[0m     plot_data \u001b[38;5;241m=\u001b[39m \u001b[43mPlotData\u001b[49m\u001b[43m(\u001b[49m\u001b[43mdata\u001b[49m\u001b[43m,\u001b[49m\u001b[43m \u001b[49m\u001b[43mvariables\u001b[49m\u001b[43m)\u001b[49m\n\u001b[0;32m    680\u001b[0m     frame \u001b[38;5;241m=\u001b[39m plot_data\u001b[38;5;241m.\u001b[39mframe\n\u001b[0;32m    681\u001b[0m     names \u001b[38;5;241m=\u001b[39m plot_data\u001b[38;5;241m.\u001b[39mnames\n",
      "File \u001b[1;32mc:\\Users\\Tomáš Kreuzinger\\.conda\\envs\\gdp\\lib\\site-packages\\seaborn\\_core\\data.py:57\u001b[0m, in \u001b[0;36mPlotData.__init__\u001b[1;34m(self, data, variables)\u001b[0m\n\u001b[0;32m     51\u001b[0m \u001b[38;5;28;01mdef\u001b[39;00m \u001b[38;5;21m__init__\u001b[39m(\n\u001b[0;32m     52\u001b[0m     \u001b[38;5;28mself\u001b[39m,\n\u001b[0;32m     53\u001b[0m     data: DataSource,\n\u001b[0;32m     54\u001b[0m     variables: \u001b[38;5;28mdict\u001b[39m[\u001b[38;5;28mstr\u001b[39m, VariableSpec],\n\u001b[0;32m     55\u001b[0m ):\n\u001b[1;32m---> 57\u001b[0m     data \u001b[38;5;241m=\u001b[39m \u001b[43mhandle_data_source\u001b[49m\u001b[43m(\u001b[49m\u001b[43mdata\u001b[49m\u001b[43m)\u001b[49m\n\u001b[0;32m     58\u001b[0m     frame, names, ids \u001b[38;5;241m=\u001b[39m \u001b[38;5;28mself\u001b[39m\u001b[38;5;241m.\u001b[39m_assign_variables(data, variables)\n\u001b[0;32m     60\u001b[0m     \u001b[38;5;28mself\u001b[39m\u001b[38;5;241m.\u001b[39mframe \u001b[38;5;241m=\u001b[39m frame\n",
      "File \u001b[1;32mc:\\Users\\Tomáš Kreuzinger\\.conda\\envs\\gdp\\lib\\site-packages\\seaborn\\_core\\data.py:275\u001b[0m, in \u001b[0;36mhandle_data_source\u001b[1;34m(data)\u001b[0m\n\u001b[0;32m    271\u001b[0m \u001b[38;5;250m\u001b[39m\u001b[38;5;124;03m\"\"\"Convert the data source object to a common union representation.\"\"\"\u001b[39;00m\n\u001b[0;32m    272\u001b[0m \u001b[38;5;28;01mif\u001b[39;00m \u001b[38;5;28misinstance\u001b[39m(data, pd\u001b[38;5;241m.\u001b[39mDataFrame) \u001b[38;5;129;01mor\u001b[39;00m \u001b[38;5;28mhasattr\u001b[39m(data, \u001b[38;5;124m\"\u001b[39m\u001b[38;5;124m__dataframe__\u001b[39m\u001b[38;5;124m\"\u001b[39m):\n\u001b[0;32m    273\u001b[0m     \u001b[38;5;66;03m# Check for pd.DataFrame inheritance could be removed once\u001b[39;00m\n\u001b[0;32m    274\u001b[0m     \u001b[38;5;66;03m# minimal pandas version supports dataframe interchange (1.5.0).\u001b[39;00m\n\u001b[1;32m--> 275\u001b[0m     data \u001b[38;5;241m=\u001b[39m \u001b[43mconvert_dataframe_to_pandas\u001b[49m\u001b[43m(\u001b[49m\u001b[43mdata\u001b[49m\u001b[43m)\u001b[49m\n\u001b[0;32m    276\u001b[0m \u001b[38;5;28;01melif\u001b[39;00m data \u001b[38;5;129;01mis\u001b[39;00m \u001b[38;5;129;01mnot\u001b[39;00m \u001b[38;5;28;01mNone\u001b[39;00m \u001b[38;5;129;01mand\u001b[39;00m \u001b[38;5;129;01mnot\u001b[39;00m \u001b[38;5;28misinstance\u001b[39m(data, Mapping):\n\u001b[0;32m    277\u001b[0m     err \u001b[38;5;241m=\u001b[39m \u001b[38;5;124mf\u001b[39m\u001b[38;5;124m\"\u001b[39m\u001b[38;5;124mData source must be a DataFrame or Mapping, not \u001b[39m\u001b[38;5;132;01m{\u001b[39;00m\u001b[38;5;28mtype\u001b[39m(data)\u001b[38;5;132;01m!r}\u001b[39;00m\u001b[38;5;124m.\u001b[39m\u001b[38;5;124m\"\u001b[39m\n",
      "File \u001b[1;32mc:\\Users\\Tomáš Kreuzinger\\.conda\\envs\\gdp\\lib\\site-packages\\seaborn\\_core\\data.py:319\u001b[0m, in \u001b[0;36mconvert_dataframe_to_pandas\u001b[1;34m(data)\u001b[0m\n\u001b[0;32m    314\u001b[0m \u001b[38;5;28;01mexcept\u001b[39;00m \u001b[38;5;167;01mException\u001b[39;00m \u001b[38;5;28;01mas\u001b[39;00m err:\n\u001b[0;32m    315\u001b[0m     msg \u001b[38;5;241m=\u001b[39m (\n\u001b[0;32m    316\u001b[0m         \u001b[38;5;124m\"\u001b[39m\u001b[38;5;124mEncountered an exception when converting data source \u001b[39m\u001b[38;5;124m\"\u001b[39m\n\u001b[0;32m    317\u001b[0m         \u001b[38;5;124m\"\u001b[39m\u001b[38;5;124mto a pandas DataFrame. See traceback above for details.\u001b[39m\u001b[38;5;124m\"\u001b[39m\n\u001b[0;32m    318\u001b[0m     )\n\u001b[1;32m--> 319\u001b[0m     \u001b[38;5;28;01mraise\u001b[39;00m \u001b[38;5;167;01mRuntimeError\u001b[39;00m(msg) \u001b[38;5;28;01mfrom\u001b[39;00m \u001b[38;5;21;01merr\u001b[39;00m\n",
      "\u001b[1;31mRuntimeError\u001b[0m: Encountered an exception when converting data source to a pandas DataFrame. See traceback above for details."
     ]
    }
   ],
   "source": [
    "plot_utils.plot_gdp(filtered_df)"
   ]
  }
 ],
 "metadata": {
  "kernelspec": {
   "display_name": "gdp",
   "language": "python",
   "name": "python3"
  },
  "language_info": {
   "codemirror_mode": {
    "name": "ipython",
    "version": 3
   },
   "file_extension": ".py",
   "mimetype": "text/x-python",
   "name": "python",
   "nbconvert_exporter": "python",
   "pygments_lexer": "ipython3",
   "version": "3.8.20"
  }
 },
 "nbformat": 4,
 "nbformat_minor": 2
}
